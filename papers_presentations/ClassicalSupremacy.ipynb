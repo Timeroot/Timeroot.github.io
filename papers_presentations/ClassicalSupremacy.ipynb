{
 "cells": [
  {
   "cell_type": "code",
   "execution_count": 97,
   "id": "2973d986-b342-4d24-b9cc-4675d3fbba34",
   "metadata": {},
   "outputs": [],
   "source": [
    "using Random"
   ]
  },
  {
   "cell_type": "code",
   "execution_count": 257,
   "id": "25adf4bb-a4b0-4220-8342-88401e163ab5",
   "metadata": {},
   "outputs": [],
   "source": [
    "global n = 5 #Number of cadits\n",
    "global d = 3 #Dimension of cadits\n",
    ";"
   ]
  },
  {
   "cell_type": "code",
   "execution_count": 258,
   "id": "067a6cd5-8538-43b4-b100-d5d221426e6e",
   "metadata": {},
   "outputs": [
    {
     "data": {
      "text/plain": [
       "computeExactXEBMarkov (generic function with 1 method)"
      ]
     },
     "execution_count": 258,
     "metadata": {},
     "output_type": "execute_result"
    }
   ],
   "source": [
    "#Get a distribution of W's\n",
    "function getW(n, d)\n",
    "    Wi = rand(Float64, (n,d)) #Generate weights\n",
    "    Wi ./= sum(Wi, dims=2) #Normalize to distribution\n",
    "    return Wi\n",
    "end\n",
    "\n",
    "#Get the full output distribution\n",
    "function getFullDistribution(n, d, W)\n",
    "    #Start with the n=1 marginal for i=1\n",
    "    res = copy(W[1,:])\n",
    "    \n",
    "    for i = 2:n\n",
    "        new_shape = tuple(d, size(res)...)\n",
    "        new_res = zeros(new_shape)\n",
    "        for x in CartesianIndices(res) #From each old event probability...\n",
    "            p_prev = res[x]\n",
    "            mod_sum = sum(Tuple(x))\n",
    "            for j = 1:d # compute each new one\n",
    "                new_sum = (mod_sum + (j-1)) % d + 1\n",
    "                p_new = W[i, new_sum] * p_prev\n",
    "    \n",
    "                full_new_ind = CartesianIndex((Tuple(x)..., j))\n",
    "                new_res[full_new_ind] = p_new\n",
    "            end\n",
    "        end\n",
    "        res = new_res\n",
    "    end\n",
    "    return res\n",
    "end\n",
    "\n",
    "const MarginalId = Dict{Int, Int}\n",
    "\n",
    "function getMarginalFromFull(n, d, dist, marginalId::MarginalId)\n",
    "    coloned_index = Any[]\n",
    "    for i=1:n\n",
    "        if i ∈ keys(marginalId)\n",
    "            push!(coloned_index, marginalId[i])\n",
    "        else\n",
    "            push!(coloned_index, :)\n",
    "        end\n",
    "    end\n",
    "    return sum(getindex(dist, coloned_index...))\n",
    "end\n",
    "\n",
    "function getMarginalMarkov(n, d, W, marginalId::MarginalId)\n",
    "    #Iterate along, tracking the marginal probability of the running sum 0...d-1.\n",
    "    #Since we start with a sum of \"0 many things\", we start with the sum completely supported\n",
    "    #on the index of modulus 0, which is the last one (d).\n",
    "    sum_marginal = zeros(Float64, d)\n",
    "    sum_marginal[d] = 1.0\n",
    "\n",
    "    for i = 1:n\n",
    "        new_sum_marginal = zeros(Float64, d)\n",
    "        #If the index is specified by the marginal,\n",
    "        if i ∈ keys(marginalId)\n",
    "            #It's a single update probability\n",
    "            v = marginalId[i]\n",
    "            for sum_old = 1:d\n",
    "                new_sum = (sum_old + (v-1)) % d + 1\n",
    "                new_sum_marginal[new_sum] = W[i, new_sum] * sum_marginal[sum_old]\n",
    "            end\n",
    "        else\n",
    "            #Otherwise, it becomes a mix over all the ways to propagate\n",
    "            for v = 1:d, sum_old = 1:d\n",
    "                new_sum = (sum_old + (v-1)) % d + 1\n",
    "                new_sum_marginal[new_sum] += W[i, new_sum] * sum_marginal[sum_old]\n",
    "            end\n",
    "        end\n",
    "        sum_marginal = new_sum_marginal\n",
    "    end\n",
    "    #Sum over all the possible final sums\n",
    "    return sum(sum_marginal)\n",
    "end\n",
    "\n",
    "function computeExactXEBFromFull(n, d, dist)\n",
    "    return length(dist) * sum(dist .^ 2) - 1\n",
    "end\n",
    "\n",
    "function computeExactXEBMarkov(n, d, W)\n",
    "    prod = 1\n",
    "    for i = 1:n\n",
    "        prod *= sum(W[i, :] .^ 2)\n",
    "    end\n",
    "    return d^n * prod - 1\n",
    "end"
   ]
  },
  {
   "cell_type": "code",
   "execution_count": 259,
   "id": "bb01e789-f86b-4a75-9781-4dab254a00f6",
   "metadata": {},
   "outputs": [],
   "source": [
    "Random.seed!(13679)\n",
    "\n",
    "Wi = getW(n,d)\n",
    "dist = getFullDistribution(n, d, Wi)\n",
    ";"
   ]
  },
  {
   "cell_type": "code",
   "execution_count": 260,
   "id": "5f96da8c-4898-4f48-8bb7-489d0a328bcb",
   "metadata": {},
   "outputs": [
    {
     "name": "stdout",
     "output_type": "stream",
     "text": [
      "getMarginalFromFull(n, d, dist, Dict(1 => 1, 3 => 2, 4 => 3, 5 => 1)) = 0.012676114234194853\n",
      "getMarginalMarkov(n, d, Wi, Dict(1 => 1, 3 => 2, 4 => 3, 5 => 1)) = 0.012676114234194853\n",
      "sum(dist[1, :, 2, 3, 1]) = 0.012676114234194853\n",
      "\n",
      "getMarginalFromFull(n, d, dist, Dict(1 => 1, 2 => 2)) = 0.4185177366841969\n",
      "getMarginalMarkov(n, d, Wi, Dict(1 => 1, 2 => 2)) = 0.4185177366841969\n",
      "sum(dist[1, 2, :, :, :]) = 0.4185177366841969\n",
      "\n",
      "getMarginalFromFull(n, d, dist, Dict{Int, Int}()) = 1.0\n",
      "getMarginalMarkov(n, d, Wi, Dict{Int, Int}()) = 1.0\n",
      "sum(dist) = 1.0\n"
     ]
    }
   ],
   "source": [
    "@show getMarginalFromFull(n, d, dist, Dict(1=>1, 3=>2, 4=>3, 5=>1))\n",
    "@show getMarginalMarkov(n, d, Wi, Dict(1=>1, 3=>2, 4=>3, 5=>1))\n",
    "@show sum(dist[1, :, 2, 3, 1])\n",
    "println()\n",
    "@show getMarginalFromFull(n, d, dist, Dict(1=>1, 2=>2))\n",
    "@show getMarginalMarkov(n, d, Wi, Dict(1=>1, 2=>2))\n",
    "@show sum(dist[1, 2, :, :, :])\n",
    "println()\n",
    "@show getMarginalFromFull(n, d, dist, Dict{Int,Int}())\n",
    "@show getMarginalMarkov(n, d, Wi, Dict{Int,Int}())\n",
    "@show sum(dist)\n",
    ";"
   ]
  },
  {
   "cell_type": "code",
   "execution_count": 261,
   "id": "4c721dbe-4fdb-4201-826f-dbde3078aaa6",
   "metadata": {},
   "outputs": [
    {
     "name": "stdout",
     "output_type": "stream",
     "text": [
      "getMarginalFromFull(n, d, dist, Dict(2 => 1, 5 => 1, 13 => 1)) = 0.11855488883250775\n",
      "getMarginalMarkov(n, d, Wi, Dict(2 => 1, 5 => 1, 13 => 1)) = 0.11855488883250775\n"
     ]
    }
   ],
   "source": [
    "Random.seed!(54321)\n",
    "n = 15\n",
    "d = 2\n",
    "\n",
    "Wi = getW(n,d)\n",
    "dist = getFullDistribution(n, d, Wi)\n",
    "\n",
    "@show getMarginalFromFull(n, d, dist, Dict(2=>1, 5=>1, 13=>1))\n",
    "@show getMarginalMarkov(n, d, Wi, Dict(2=>1, 5=>1, 13=>1))\n",
    ";"
   ]
  },
  {
   "cell_type": "code",
   "execution_count": 262,
   "id": "e04d7c27-41f7-4a55-9a62-bf4ab649b27c",
   "metadata": {},
   "outputs": [
    {
     "name": "stdout",
     "output_type": "stream",
     "text": [
      "computeExactXEBFromFull(n, d, dist) = 9.543655574914713\n",
      "computeExactXEBMarkov(n, d, Wi) = 9.543655574914713\n"
     ]
    }
   ],
   "source": [
    "@show computeExactXEBFromFull(n, d, dist)\n",
    "@show computeExactXEBMarkov(n, d, Wi)\n",
    ";"
   ]
  },
  {
   "cell_type": "code",
   "execution_count": null,
   "id": "3ae6cac0-350d-492c-9388-6f07bd0a9b50",
   "metadata": {},
   "outputs": [],
   "source": []
  }
 ],
 "metadata": {
  "kernelspec": {
   "display_name": "Julia 1.10.4",
   "language": "julia",
   "name": "julia-1.10"
  },
  "language_info": {
   "file_extension": ".jl",
   "mimetype": "application/julia",
   "name": "julia",
   "version": "1.10.4"
  }
 },
 "nbformat": 4,
 "nbformat_minor": 5
}
